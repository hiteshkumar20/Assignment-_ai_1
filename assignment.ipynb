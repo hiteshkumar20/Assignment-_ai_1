{
 "cells": [
  {
   "cell_type": "markdown",
   "metadata": {},
   "source": [
    "# Assignment 1 "
   ]
  },
  {
   "cell_type": "markdown",
   "metadata": {},
   "source": [
    "# 1 : Declare and initialize a variable name total_marks with a value 500"
   ]
  },
  {
   "cell_type": "code",
   "execution_count": 2,
   "metadata": {},
   "outputs": [],
   "source": [
    "total_marks=500"
   ]
  },
  {
   "cell_type": "markdown",
   "metadata": {},
   "source": [
    "# 2 : Declare and initialize 5 variables name maths , english , urdu , physics and chemisrty with different integer values"
   ]
  },
  {
   "cell_type": "code",
   "execution_count": 3,
   "metadata": {},
   "outputs": [],
   "source": [
    "maths=70\n",
    "english=60\n",
    "urdu=80\n",
    "physics=87\n",
    "chemistry=68"
   ]
  },
  {
   "cell_type": "markdown",
   "metadata": {},
   "source": [
    "# 3 : Calculate the obtained marks And assign the value In variable name obtained_marks# "
   ]
  },
  {
   "cell_type": "code",
   "execution_count": 4,
   "metadata": {},
   "outputs": [
    {
     "data": {
      "text/plain": [
       "365"
      ]
     },
     "execution_count": 4,
     "metadata": {},
     "output_type": "execute_result"
    }
   ],
   "source": [
    "obtained_marks=maths+english+urdu+physics+chemistry\n",
    "obtained_marks"
   ]
  },
  {
   "cell_type": "markdown",
   "metadata": {},
   "source": [
    "# 4 : Calculate percentage and assign the value in variable name percentage"
   ]
  },
  {
   "cell_type": "code",
   "execution_count": 5,
   "metadata": {},
   "outputs": [],
   "source": [
    "percenatge=(obtained_marks/total_marks)*100"
   ]
  },
  {
   "cell_type": "markdown",
   "metadata": {},
   "source": [
    "# 5 : Declare and initialize an empty variable name grade"
   ]
  },
  {
   "cell_type": "code",
   "execution_count": 6,
   "metadata": {},
   "outputs": [],
   "source": [
    "grade=\"\""
   ]
  },
  {
   "cell_type": "markdown",
   "metadata": {},
   "source": [
    "# 6 : assign a vlue to grade by checking the following conditions::\n"
   ]
  },
  {
   "cell_type": "markdown",
   "metadata": {},
   "source": [
    "# if % is greater then and equal to 90 and less then 100 grade is A+"
   ]
  },
  {
   "cell_type": "markdown",
   "metadata": {},
   "source": [
    "# if % is greater then and equal to 80 and less then 90 grade is A"
   ]
  },
  {
   "cell_type": "markdown",
   "metadata": {},
   "source": [
    "# if % is greater then and equal to 70 and less then 80 grade is B"
   ]
  },
  {
   "cell_type": "markdown",
   "metadata": {},
   "source": [
    "# if % is greater then and equal to 60 and less then 70 grade is C"
   ]
  },
  {
   "cell_type": "markdown",
   "metadata": {},
   "source": [
    "# if % is less than 60 grade is FAIL"
   ]
  },
  {
   "cell_type": "code",
   "execution_count": 7,
   "metadata": {},
   "outputs": [],
   "source": [
    "if percenatge>=90 and percenatge<=100:\n",
    "    grade=\"A+\"\n",
    "elif percenatge>=80 and percenatge<90:\n",
    "    grade=\"A\"\n",
    "elif percenatge>=70 and percenatge<80:\n",
    "    grade=\"B\"\n",
    "elif percenatge>=60 and percenatge<70:\n",
    "    grade=\"C\"\n",
    "else:\n",
    "    grade=\"fail\""
   ]
  },
  {
   "cell_type": "markdown",
   "metadata": {},
   "source": [
    "# 7 : Print grade percentage and obtained marks"
   ]
  },
  {
   "cell_type": "code",
   "execution_count": 9,
   "metadata": {},
   "outputs": [
    {
     "name": "stdout",
     "output_type": "stream",
     "text": [
      "grade B\n",
      "percenatge73.0%\n",
      "obtained marks 365\n"
     ]
    }
   ],
   "source": [
    "print(\"grade\",grade)\n",
    "print(\"percenatge\" + str(percenatge) + \"%\")\n",
    "print(\"obtained marks\",obtained_marks)"
   ]
  },
  {
   "cell_type": "code",
   "execution_count": null,
   "metadata": {},
   "outputs": [],
   "source": []
  }
 ],
 "metadata": {
  "kernelspec": {
   "display_name": "Python 3",
   "language": "python",
   "name": "python3"
  },
  "language_info": {
   "codemirror_mode": {
    "name": "ipython",
    "version": 3
   },
   "file_extension": ".py",
   "mimetype": "text/x-python",
   "name": "python",
   "nbconvert_exporter": "python",
   "pygments_lexer": "ipython3",
   "version": "3.6.5"
  }
 },
 "nbformat": 4,
 "nbformat_minor": 2
}
